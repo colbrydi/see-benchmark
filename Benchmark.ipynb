{
 "cells": [
  {
   "cell_type": "markdown",
   "id": "06d8b5be-4cd8-4578-b318-7246e305ef20",
   "metadata": {
    "tags": []
   },
   "source": [
    "# Benchmark Run \n",
    "\n",
    "This notebook reviews the ```slurm-#######_#.out``` files that are generated when running ```continuousrun.sb```.  Specificall this file parses specific lines in the output file. These include the following examples. The first describes the setup of the run:\n",
    "\n",
    "```Namespace(input_file='./see-segment/Image_data/Examples/Mushrooms.jpeg', input_mask='./see-segment/Image_data/Examples/Mushrooms_GT.png', seed=64467698, pop_size=10, num_iter=10)```\n",
    "\n",
    "The others describe each generation's best so far.\n",
    "\n",
    "```#BEST [0.9278057254150632,  ['XYZ', True, 2, 'Felzenszwalb', 0.9296875, 0.76953125, 0.46875, 0.53125, 0.1953125, 0.3125, 7, 17]]```\n"
   ]
  },
  {
   "cell_type": "markdown",
   "id": "c1c5268c-5de9-4074-99f5-e0b08676242b",
   "metadata": {},
   "source": [
    "# Useful Command\n",
    "\n",
    "Use the following command on a develompent node to cancel all currently running job arrays without canceling a jupyter ondemand instance:\n",
    "\n",
    "```scancel `sq | grep _ | grep -v -e TIME | awk '{print $1}'` ```"
   ]
  },
  {
   "cell_type": "markdown",
   "id": "8102f639-cbb4-468c-a5cc-e36f89a0d6b5",
   "metadata": {},
   "source": [
    "Or use \"SEE\" name\n",
    "\n",
    "```scancel -u $USER -n SEE```\n"
   ]
  },
  {
   "cell_type": "code",
   "execution_count": null,
   "id": "9558026a-9c17-4696-8b45-b629391c0a86",
   "metadata": {},
   "outputs": [],
   "source": [
    "import pandas as pd\n",
    "import numpy as np\n",
    "import matplotlib.pylab as plt\n",
    "from pathlib import Path\n",
    "import re"
   ]
  },
  {
   "cell_type": "code",
   "execution_count": null,
   "id": "a59b4f96-557a-4c37-9c8e-a1f0d25bf8f2",
   "metadata": {},
   "outputs": [],
   "source": [
    "slurmoutdir = Path('.')\n",
    "slurmfiles = slurmoutdir.glob('./20221203-Working_Benchmark/*.out')\n",
    "#slurmfiles = slurmoutdir.glob('./*.out')\n",
    "\n",
    "filelist = []\n",
    "\n",
    "for file in slurmfiles:\n",
    "    jobnum = re.findall('-[0-9]*_', str(file))[0][1:-1]\n",
    "    array = re.findall('_[0-9]*\\.', str(file))[0][1:-1]\n",
    "    item = [str(file), int(jobnum), int(array)]\n",
    "    filelist.append(item)\n",
    "\n",
    "df = pd.DataFrame(filelist, columns=['filename', 'jobid', 'arrayid'])\n",
    "df = df.sort_values(by=['arrayid', 'jobid'])"
   ]
  },
  {
   "cell_type": "code",
   "execution_count": null,
   "id": "375290a8-30e2-4d0d-b4e2-301feb3ff25f",
   "metadata": {},
   "outputs": [],
   "source": [
    "def Namespace(input_file='', input_mask='', seed=60, pop_size=0, num_iter=0):\n",
    "    ns = {}\n",
    "    ns['input_file'] = input_file;\n",
    "    ns['input_mask'] = input_mask;   \n",
    "    ns['seed'] = seed;\n",
    "    ns['pop_size'] = pop_size;\n",
    "    ns['num_iter'] = num_iter\n",
    "    #print(ns)\n",
    "    return ns"
   ]
  },
  {
   "cell_type": "code",
   "execution_count": null,
   "id": "8afc1557-5c1f-440f-a3a6-edd1ddf468ba",
   "metadata": {},
   "outputs": [],
   "source": [
    "def parseoutput(filename):\n",
    "    bestsofar = []\n",
    "    stats = {}\n",
    "    times = []\n",
    "    with open(filename, \"r\") as f:\n",
    "        index = 0\n",
    "        for line in f:\n",
    "            if 'TRUE_BST' in line:\n",
    "                vecstr = line[9:]\n",
    "            if 'BEST' in line:\n",
    "                vecstr = line[6:]\n",
    "                x = eval(vecstr)\n",
    "                x = [index] + x\n",
    "                x = [ x[0], x[1] ] + x[2]\n",
    "                bestsofar.append(x)\n",
    "            if 'Namespace' in line:\n",
    "                data = line[10:-2].split(',')\n",
    "                for item in data:\n",
    "                    name,value = item.strip().split('=')\n",
    "                    stats[name]=value   \n",
    "            #if 'TIME' in line:\n",
    "            #    times.append(float(line.split(' ')[1]))\n",
    "            #if 'HASH' in line:\n",
    "            #if slurmstepd: \n",
    "            index += 1\n",
    "\n",
    "    return bestsofar, stats, times\n",
    "    "
   ]
  },
  {
   "cell_type": "code",
   "execution_count": null,
   "id": "bf11bd24-5978-4ba9-9afa-408436ae870a",
   "metadata": {},
   "outputs": [],
   "source": [
    "examples = {}\n",
    "iterations = {}\n",
    "mystats = {}\n",
    "times = {}\n",
    "\n",
    "for index, row in df.iterrows():\n",
    "    if True: #if f\"_{item}.\" in row['filename']:\n",
    "        bestsofar, stats, thistime = parseoutput(row['filename'])\n",
    "        #print(f\"{row['filename']} - {len(bestsofar)}\")\n",
    "        if not row['arrayid'] in examples:\n",
    "            examples[row['arrayid']] = bestsofar\n",
    "            iterations[row['arrayid']] = [ len(examples[row['arrayid']]) ]\n",
    "            mystats[row['arrayid']] = stats\n",
    "            times[row['arrayid']] = thistime\n",
    "        else:\n",
    "            examples[row['arrayid']] = examples[row['arrayid']] + bestsofar\n",
    "            iterations[row['arrayid']].append(len(examples[row['arrayid']]))\n",
    "            times[row['arrayid']] = times[row['arrayid']] + thistime\n",
    "            if mystats[row['arrayid']] == None:\n",
    "                mystats[row['arrayid']] = stats\n",
    "\n",
    "# Organize data in one big dictionary\n",
    "rundata = {}\n",
    "lookup = {}\n",
    "for arrayid in mystats:\n",
    "    key = Path(mystats[arrayid]['input_file'][1:-1]).stem #Get name of image from filename\n",
    "    lookup[key] = arrayid # Make a lookup table.\n",
    "    if not key in rundata:\n",
    "        rundata[key] = mystats[arrayid]\n",
    "        rundata[key]['iterations'] = [iterations[arrayid]]\n",
    "        rundata[key]['data'] = [examples[arrayid]]\n",
    "        if arrayid in times:\n",
    "            if len(times[arrayid]) > 0:\n",
    "                rundata[key]['times'] = [ (np.array(times[arrayid]) - times[arrayid][0])/1000/60 ]\n",
    "    else:\n",
    "        rundata[key]['data'].append(examples[arrayid])\n",
    "        rundata[key]['iterations'].append(iterations[arrayid])\n",
    "        if arrayid in times:\n",
    "            if len(times[arrayid]) > 0:\n",
    "                rundata[key]['times'].append((np.array(times[arrayid]) - times[arrayid][0])/1000/60)\n",
    "                    "
   ]
  },
  {
   "cell_type": "code",
   "execution_count": null,
   "id": "e8abda87",
   "metadata": {},
   "outputs": [],
   "source": [
    "from matplotlib.offsetbox import TextArea, DrawingArea, OffsetImage, AnnotationBbox\n",
    "import matplotlib.pyplot as plt\n",
    "import matplotlib.image as mpimg\n",
    "def plot_rundata(mydata, key='label', showimage=False):\n",
    "    ax = plt.gca()\n",
    "    legend = []\n",
    "    maxx = 0\n",
    "    for index,data in enumerate(mydata['data']):\n",
    "        if len(data) > 0:\n",
    "            numfeatures = len(data[0])-2\n",
    "            columns = ['index', 'fitness']\n",
    "            for i in range(numfeatures):\n",
    "                columns.append(f\"individual_{i}\")\n",
    "            columns[5] = 'Segmentation Algorithm'\n",
    "            results = pd.DataFrame(data, columns=columns)\n",
    "            #print(data)\n",
    "            trend = [1.5] + list(results.iloc[:,1])\n",
    "            plt.title(f\"{key}\")\n",
    "            legend.append(f\"{trend[-1]}\")\n",
    "            # if len(mydata['iterations'][index]) > 1:\n",
    "            #     for idx in mydata['iterations'][index]:\n",
    "            #         plt.plot([idx, idx], [0, 1], 'r')\n",
    "            maxx = max(maxx,len(trend))\n",
    "            plt.plot(trend[:])\n",
    "    if(showimage):\n",
    "        arr_lena = mpimg.imread(mydata['input_file'][1:-1])\n",
    "        imagebox = OffsetImage(arr_lena, zoom=0.1)\n",
    "        ab = AnnotationBbox(imagebox, (maxx*0.8, 0.5))\n",
    "        ax.add_artist(ab)\n",
    "    plt.legend(legend)\n"
   ]
  },
  {
   "cell_type": "code",
   "execution_count": null,
   "id": "1a35d5b9",
   "metadata": {},
   "outputs": [],
   "source": [
    "plt.figure(figsize=[12,9])\n",
    "key = 'Waterbottle'\n",
    "plot_rundata(rundata[key], key=key, showimage=True)"
   ]
  },
  {
   "cell_type": "code",
   "execution_count": null,
   "id": "4d0fdbd3-2fa8-43eb-8bf8-d8c9ebd8e057",
   "metadata": {},
   "outputs": [],
   "source": [
    "def countalgos(data):\n",
    "    if len(data) > 0:\n",
    "        numfeatures = len(data[0])-2\n",
    "        columns = ['index', 'fitness']\n",
    "        for i in range(numfeatures):\n",
    "            columns.append(f\"individual_{i}\")\n",
    "        columns[5] = 'Segmentation Algorithm'\n",
    "        results = pd.DataFrame(data, columns=columns)\n",
    "        return results.groupby('Segmentation Algorithm').size()\n",
    "    \n",
    "    \n",
    "for key in rundata:\n",
    "    print(key)\n",
    "    algo_counts = {}\n",
    "    for data in rundata[key]['data']:\n",
    "        if len(data) > 0:\n",
    "            temp = countalgos(data)\n",
    "            #if not temp == None : \n",
    "            for index in temp.index:\n",
    "                if index in algo_counts:\n",
    "                    algo_counts[index] += temp[index]\n",
    "                else:\n",
    "                    algo_counts[index] = temp[index]\n",
    "    print(algo_counts)\n"
   ]
  },
  {
   "cell_type": "code",
   "execution_count": null,
   "id": "18384e24-9ead-4aa2-a0c0-32a85038c159",
   "metadata": {},
   "outputs": [],
   "source": [
    "import math\n",
    "\n",
    "cols = 3\n",
    "total = len(rundata)\n",
    "rows = math.ceil(total/cols)\n",
    "\n",
    "index = 1;\n",
    "\n",
    "plt.figure(figsize=[20,40])\n",
    "for key in rundata:\n",
    "    row = index % 3\n",
    "    col = math.floor(index / 3)\n",
    "    plt.subplot(rows,cols,index)\n",
    "    plot_rundata(rundata[key], key=key)\n",
    "    index +=1\n",
    "plt.savefig('benchmark.png', bbox_inches='tight')"
   ]
  },
  {
   "cell_type": "code",
   "execution_count": null,
   "id": "019d0aae",
   "metadata": {},
   "outputs": [],
   "source": [
    "#TODO Match y axis scale\n",
    "#Make bar graph of total number of iterations\n",
    "means = []\n",
    "mx = []\n",
    "mn = []\n",
    "pixels = []\n",
    "for key in rundata:\n",
    "    vec = np.array(rundata[key]['iterations'])\n",
    "\n",
    "    arr_lena = mpimg.imread(rundata[key]['input_file'][1:-1])\n",
    "    pixels.append(arr_lena.shape[0]*arr_lena.shape[1])\n",
    "    mn.append(np.min(vec))\n",
    "    means.append(np.average(vec))\n",
    "    mx.append(np.max(vec))\n",
    "\n",
    "    \n",
    "plt.figure(figsize=[28,9])\n",
    "plt.subplot(1,3,1)\n",
    "\n",
    "plt.setp(plt.xticks()[1], rotation=90) \n",
    "plt.bar(rundata.keys(), mn, color ='maroon', width = 0.4)\n",
    " \n",
    "plt.xlabel(\"Image Examples\")\n",
    "plt.ylabel(\"Min number of iterations\")\n",
    "\n",
    "\n",
    "plt.subplot(1,3,2)\n",
    "\n",
    "plt.setp(plt.xticks()[1], rotation=90) \n",
    "# creating the bar plot\n",
    "plt.bar(rundata.keys(), means, color ='maroon', width = 0.4)\n",
    " \n",
    "plt.xlabel(\"Image Examples\")\n",
    "plt.ylabel(\"Mean number of iterations\")\n",
    "\n",
    "\n",
    "plt.subplot(1,3,3)\n",
    "\n",
    "plt.setp(plt.xticks()[1], rotation=90) \n",
    "# creating the bar plot\n",
    "plt.bar(rundata.keys(), mx, color ='maroon', width = 0.4)\n",
    " \n",
    "plt.xlabel(\"Image Examples\")\n",
    "plt.ylabel(\"Max number of iterations\")\n"
   ]
  },
  {
   "cell_type": "code",
   "execution_count": null,
   "id": "3bb9f68b-ddc4-48dc-954b-995975ce7d38",
   "metadata": {},
   "outputs": [],
   "source": [
    "#Make scatter graph pixels vs iterations'\n",
    "\n",
    "plt.figure(figsize=[10,9])\n",
    "plt.loglog(pixels, mx, '*')\n",
    "#plt.plot(pixels, mx, '*')\n",
    "plt.xlabel('pixels')\n",
    "plt.ylabel('iteratinos')"
   ]
  },
  {
   "cell_type": "code",
   "execution_count": null,
   "id": "a5a5462c",
   "metadata": {},
   "outputs": [],
   "source": [
    "#Return Statistics for best final fitness"
   ]
  },
  {
   "cell_type": "code",
   "execution_count": null,
   "id": "474b0ab7",
   "metadata": {},
   "outputs": [],
   "source": [
    "#Show timing data"
   ]
  },
  {
   "cell_type": "code",
   "execution_count": null,
   "id": "0440500c-b227-4ecc-8e9b-aa645bbc777b",
   "metadata": {},
   "outputs": [],
   "source": [
    "# Show average number of iterations to Best"
   ]
  },
  {
   "cell_type": "code",
   "execution_count": null,
   "id": "67f5eb80-eebe-4128-89bb-2f9ee5b519ec",
   "metadata": {},
   "outputs": [],
   "source": [
    "# Algorithm Distribution "
   ]
  },
  {
   "cell_type": "code",
   "execution_count": null,
   "id": "1b3e1d3c-7f68-4c32-a986-214761b0d586",
   "metadata": {},
   "outputs": [],
   "source": []
  }
 ],
 "metadata": {
  "kernelspec": {
   "display_name": "Python 3",
   "language": "python",
   "name": "python3"
  },
  "language_info": {
   "codemirror_mode": {
    "name": "ipython",
    "version": 3
   },
   "file_extension": ".py",
   "mimetype": "text/x-python",
   "name": "python",
   "nbconvert_exporter": "python",
   "pygments_lexer": "ipython3",
   "version": "3.9.12"
  }
 },
 "nbformat": 4,
 "nbformat_minor": 5
}
