{
 "cells": [
  {
   "cell_type": "markdown",
   "id": "2567d1e1-c147-4170-8de7-981afac886d2",
   "metadata": {},
   "source": [
    "# Bad Sizes\n",
    "Ants  \n",
    "Bamboo  \n",
    "Books (too big)"
   ]
  },
  {
   "cell_type": "markdown",
   "id": "06d8b5be-4cd8-4578-b318-7246e305ef20",
   "metadata": {
    "tags": []
   },
   "source": [
    "# Continuous Run \n",
    "\n",
    "This notebook reviews the ```slurm-#######_#.out``` files that are generated when running ```continuousrun.sb```.  Specificall this file parses specific lines in the output file. These include the following examples. The first describes the setup of the run:\n",
    "\n",
    "```Namespace(input_file='./see-segment/Image_data/Examples/Mushrooms.jpeg', input_mask='./see-segment/Image_data/Examples/Mushrooms_GT.png', seed=64467698, pop_size=10, num_iter=10)```\n",
    "\n",
    "The others describe each generation's best so far.\n",
    "\n",
    "```#BEST [0.9278057254150632,  ['XYZ', True, 2, 'Felzenszwalb', 0.9296875, 0.76953125, 0.46875, 0.53125, 0.1953125, 0.3125, 7, 17]]```\n"
   ]
  },
  {
   "cell_type": "markdown",
   "id": "c1c5268c-5de9-4074-99f5-e0b08676242b",
   "metadata": {},
   "source": [
    "# Useful Command\n",
    "\n",
    "Use the following command on a develompent node to cancel all currently running job arrays without canceling a jupyter ondemand instance:\n",
    "\n",
    "```scancel `sq | grep _ | grep -v -e TIME | awk '{print $1}'` ```"
   ]
  },
  {
   "cell_type": "markdown",
   "id": "8102f639-cbb4-468c-a5cc-e36f89a0d6b5",
   "metadata": {},
   "source": [
    "Or use \"SEE\" name\n",
    "\n",
    "```scancel -u $USER -n SEE```\n"
   ]
  },
  {
   "cell_type": "code",
   "execution_count": null,
   "id": "9558026a-9c17-4696-8b45-b629391c0a86",
   "metadata": {},
   "outputs": [],
   "source": [
    "import pandas as pd\n",
    "import numpy as np\n",
    "import matplotlib.pylab as plt\n",
    "from pathlib import Path\n",
    "import re"
   ]
  },
  {
   "cell_type": "code",
   "execution_count": null,
   "id": "a59b4f96-557a-4c37-9c8e-a1f0d25bf8f2",
   "metadata": {},
   "outputs": [],
   "source": [
    "from parsesee import parsesee\n",
    "\n",
    "df = parsesee.getslurmoutputfiles('./WorkOUT/')\n",
    "df"
   ]
  },
  {
   "cell_type": "code",
   "execution_count": null,
   "id": "6b0a5f45-4628-4297-a839-37058b713b54",
   "metadata": {},
   "outputs": [],
   "source": [
    "rundata = parsesee.parseall(df)"
   ]
  },
  {
   "cell_type": "code",
   "execution_count": null,
   "id": "1a35d5b9",
   "metadata": {},
   "outputs": [],
   "source": [
    "plt.figure(figsize=[12,9])\n",
    "parsesee.plot_rundata(rundata['Waterbottle'], key='Waterbottle')"
   ]
  },
  {
   "cell_type": "code",
   "execution_count": null,
   "id": "18384e24-9ead-4aa2-a0c0-32a85038c159",
   "metadata": {},
   "outputs": [],
   "source": [
    "import math\n",
    "\n",
    "cols = 3\n",
    "total = len(rundata)\n",
    "rows = math.ceil(total/cols)\n",
    "\n",
    "index = 1;\n",
    "\n",
    "plt.figure(figsize=[20,40])\n",
    "for key in rundata:\n",
    "    row = index % 3\n",
    "    col = math.floor(index / 3)\n",
    "    plt.subplot(rows,cols,index)\n",
    "    parsesee.plot_rundata(rundata[key], key=key)\n",
    "    index +=1"
   ]
  },
  {
   "cell_type": "code",
   "execution_count": null,
   "id": "9902d6ce-0161-4bcf-8a6e-8b41174c15ec",
   "metadata": {},
   "outputs": [],
   "source": []
  },
  {
   "cell_type": "code",
   "execution_count": null,
   "id": "019d0aae",
   "metadata": {},
   "outputs": [],
   "source": []
  },
  {
   "cell_type": "code",
   "execution_count": null,
   "id": "a5a5462c",
   "metadata": {},
   "outputs": [],
   "source": []
  }
 ],
 "metadata": {
  "kernelspec": {
   "display_name": "Python 3",
   "language": "python",
   "name": "python3"
  },
  "language_info": {
   "codemirror_mode": {
    "name": "ipython",
    "version": 3
   },
   "file_extension": ".py",
   "mimetype": "text/x-python",
   "name": "python",
   "nbconvert_exporter": "python",
   "pygments_lexer": "ipython3",
   "version": "3.9.12"
  }
 },
 "nbformat": 4,
 "nbformat_minor": 5
}
