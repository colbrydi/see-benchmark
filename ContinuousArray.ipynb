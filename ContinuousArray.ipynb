{
 "cells": [
  {
   "cell_type": "markdown",
   "id": "06d8b5be-4cd8-4578-b318-7246e305ef20",
   "metadata": {
    "tags": []
   },
   "source": [
    "# Continuous Run \n",
    "\n",
    "This notebook reviews the ```slurm-#######_#.out``` files that are generated when running ```continuousrun.sb```.  Specificall this file parses specific lines in the output file. These include the following examples. The first describes the setup of the run:\n",
    "\n",
    "```Namespace(input_file='./see-segment/Image_data/Examples/Mushrooms.jpeg', input_mask='./see-segment/Image_data/Examples/Mushrooms_GT.png', seed=64467698, pop_size=10, num_iter=10)```\n",
    "\n",
    "The others describe each generation's best so far.\n",
    "\n",
    "```#BEST [0.9278057254150632,  ['XYZ', True, 2, 'Felzenszwalb', 0.9296875, 0.76953125, 0.46875, 0.53125, 0.1953125, 0.3125, 7, 17]]```\n"
   ]
  },
  {
   "cell_type": "markdown",
   "id": "c1c5268c-5de9-4074-99f5-e0b08676242b",
   "metadata": {},
   "source": [
    "# Useful Command\n",
    "\n",
    "Use the following command on a develompent node to cancel all currently running job arrays without canceling a jupyter ondemand instance:\n",
    "\n",
    "```scancel `sq | grep _ | grep -v -e TIME | awk '{print $1}'` ```"
   ]
  },
  {
   "cell_type": "code",
   "execution_count": null,
   "id": "9558026a-9c17-4696-8b45-b629391c0a86",
   "metadata": {},
   "outputs": [],
   "source": [
    "import pandas as pd\n",
    "import numpy as np\n",
    "import matplotlib.pylab as plt\n",
    "from pathlib import Path\n",
    "import re"
   ]
  },
  {
   "cell_type": "code",
   "execution_count": null,
   "id": "a59b4f96-557a-4c37-9c8e-a1f0d25bf8f2",
   "metadata": {},
   "outputs": [],
   "source": [
    "slurmoutdir = Path('.')\n",
    "\n",
    "slurmfiles = slurmoutdir.glob('./*.out')\n",
    "\n",
    "filelist = []\n",
    "\n",
    "for file in slurmfiles:\n",
    "    jobnum = re.findall('-[0-9]*_', str(file))[0][1:-1]\n",
    "    array = re.findall('_[0-9]*\\.', str(file))[0][1:-1]\n",
    "    item = [str(file), int(jobnum), int(array)]\n",
    "    filelist.append(item)\n",
    "\n",
    "df = pd.DataFrame(filelist, columns=['filename', 'jobid', 'arrayid'])\n",
    "df = df.sort_values(by=['arrayid', 'jobid'])"
   ]
  },
  {
   "cell_type": "code",
   "execution_count": null,
   "id": "375290a8-30e2-4d0d-b4e2-301feb3ff25f",
   "metadata": {},
   "outputs": [],
   "source": [
    "def Namespace(input_file='', input_mask='', seed=60, pop_size=0, num_iter=0):\n",
    "    ns = {}\n",
    "    ns['input_file'] = input_file;\n",
    "    ns['input_mask'] = input_mask;   \n",
    "    ns['seed'] = seed;\n",
    "    ns['pop_size'] = pop_size;\n",
    "    ns['num_iter'] = num_iter\n",
    "    #print(ns)\n",
    "    return ns"
   ]
  },
  {
   "cell_type": "code",
   "execution_count": null,
   "id": "9787b0cc-f03d-45a3-a27e-30d763d78503",
   "metadata": {},
   "outputs": [],
   "source": [
    "item = 4"
   ]
  },
  {
   "cell_type": "code",
   "execution_count": null,
   "id": "8afc1557-5c1f-440f-a3a6-edd1ddf468ba",
   "metadata": {},
   "outputs": [],
   "source": [
    "def parseoutput(filename):\n",
    "    bestsofar = []\n",
    "    stats = {}\n",
    "    times = []\n",
    "    with open(filename, \"r\") as f:\n",
    "        index = 0\n",
    "        for line in f:\n",
    "            if 'TRUE_BST' in line:\n",
    "                vecstr = line[9:]\n",
    "            if 'BEST' in line:\n",
    "                vecstr = line[6:]\n",
    "                x = eval(vecstr)\n",
    "                x = [index] + x\n",
    "                bestsofar.append(x)\n",
    "            if 'Namespace' in line:\n",
    "                data = line[10:-2].split(',')\n",
    "                for item in data:\n",
    "                    name,value = item.strip().split('=')\n",
    "                    stats[name]=value   \n",
    "            if 'TIME' in line:\n",
    "                times.append(float(line.split(' ')[1]))\n",
    "            #if 'HASH' in line:\n",
    "                \n",
    "            index += 1\n",
    "\n",
    "    return bestsofar, stats, times\n",
    "    "
   ]
  },
  {
   "cell_type": "code",
   "execution_count": null,
   "id": "bf11bd24-5978-4ba9-9afa-408436ae870a",
   "metadata": {},
   "outputs": [],
   "source": [
    "examples = {}\n",
    "iterations = {}\n",
    "rundata = {}\n",
    "times = {}\n",
    "for index, row in df.iterrows():\n",
    "    if True: #if f\"_{item}.\" in row['filename']:\n",
    "        bestsofar, stats, thistime = parseoutput(row['filename'])\n",
    "        #print(f\"{row['filename']} - {len(bestsofar)}\")\n",
    "        if not row['arrayid'] in examples:\n",
    "            examples[row['arrayid']] = bestsofar\n",
    "            iterations[row['arrayid']] = [ len(examples[row['arrayid']]) ]\n",
    "            rundata[row['arrayid']] = stats\n",
    "            times[row['arrayid']] = thistime\n",
    "        else:\n",
    "            examples[row['arrayid']] = examples[row['arrayid']] + bestsofar\n",
    "            iterations[row['arrayid']].append(len(examples[row['arrayid']]))\n",
    "            times[row['arrayid']] = times[row['arrayid']] + thistime\n",
    "            if rundata[row['arrayid']] == None:\n",
    "                rundata[row['arrayid']] = stats\n",
    "    \n",
    "for arrayid in rundata:\n",
    "    rundata[arrayid]['iterations'] = iterations[arrayid]\n",
    "    #print(f\"{sum(iterations[arrayid])} =?= {len(examples[arrayid])}\")\n",
    "    rundata[arrayid]['data'] = examples[arrayid]\n",
    "    if len(times[arrayid]) > 0:\n",
    "        rundata[arrayid]['times'] = (np.array(times[arrayid]) - times[arrayid][0])/1000/60"
   ]
  },
  {
   "cell_type": "code",
   "execution_count": null,
   "id": "18384e24-9ead-4aa2-a0c0-32a85038c159",
   "metadata": {},
   "outputs": [],
   "source": [
    "legend = []\n",
    "plt.figure(figsize=[12,9])\n",
    "for item in rundata:\n",
    "    results = pd.DataFrame(rundata[item]['data'], columns=['index', 'fitness', 'individual'])\n",
    "    trend = [1] + list(results['fitness']);\n",
    "    legend.append(f\"{item}-{rundata[item]['input_file'].split('/')[-1][:-5]} ({trend[-1]})\")\n",
    "\n",
    "    plt.legend(legend)\n",
    "    plt.plot(trend[:50])\n",
    "    #plottrend(trend, iterations[item])"
   ]
  },
  {
   "cell_type": "code",
   "execution_count": null,
   "id": "03ed080c-c084-4707-9b11-7525ab5f9ab7",
   "metadata": {},
   "outputs": [],
   "source": [
    "item = 1\n",
    "results = pd.DataFrame(rundata[item]['data'], columns=['index', 'fitness', 'individual'])\n",
    "\n",
    "max = 3\n",
    "for index,row in results.iterrows():\n",
    "    if max < row['fitness']:\n",
    "        print(f\"ERROR index={row['index']}: {last['fitness']} < {row['fitness']}\")\n",
    "        print(f\"  {last['individual']}\")\n",
    "        print(f\"  {row['individual']}\")\n",
    "    print(row['fitness'])\n",
    "    max = row['fitness']\n",
    "    last = row.copy()"
   ]
  },
  {
   "cell_type": "code",
   "execution_count": null,
   "id": "52f9fbd2-b840-499d-85ca-bd99b5b1defc",
   "metadata": {},
   "outputs": [],
   "source": [
    "item = 1\n",
    "results = pd.DataFrame(rundata[item]['data'], columns=['index', 'fitness', 'individual'])\n",
    "results\n"
   ]
  },
  {
   "cell_type": "code",
   "execution_count": null,
   "id": "9902d6ce-0161-4bcf-8a6e-8b41174c15ec",
   "metadata": {},
   "outputs": [],
   "source": []
  }
 ],
 "metadata": {
  "kernelspec": {
   "display_name": "Python 3",
   "language": "python",
   "name": "python3"
  },
  "language_info": {
   "codemirror_mode": {
    "name": "ipython",
    "version": 3
   },
   "file_extension": ".py",
   "mimetype": "text/x-python",
   "name": "python",
   "nbconvert_exporter": "python",
   "pygments_lexer": "ipython3",
   "version": "3.9.12"
  }
 },
 "nbformat": 4,
 "nbformat_minor": 5
}
