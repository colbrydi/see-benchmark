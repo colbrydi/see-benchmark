{
 "cells": [
  {
   "cell_type": "markdown",
   "id": "06d8b5be-4cd8-4578-b318-7246e305ef20",
   "metadata": {},
   "source": [
    "Write a program to read all of the slurm output files from a directory. Group by array ID and sort by job number.  Plot results..."
   ]
  },
  {
   "cell_type": "code",
   "execution_count": 54,
   "id": "9558026a-9c17-4696-8b45-b629391c0a86",
   "metadata": {},
   "outputs": [],
   "source": [
    "import matplotlib.pylab as plt\n",
    "from pathlib import Path\n",
    "import re"
   ]
  },
  {
   "cell_type": "code",
   "execution_count": 55,
   "id": "a59b4f96-557a-4c37-9c8e-a1f0d25bf8f2",
   "metadata": {},
   "outputs": [],
   "source": [
    "slurmoutdir = Path('.')\n",
    "\n",
    "slurmfiles = slurmoutdir.glob('*.out')\n",
    "\n",
    "filelist = []\n",
    "\n",
    "for file in slurmfiles:\n",
    "    jobnum = re.findall('-[0-9]*_', str(file))[0][1:-1]\n",
    "    array = re.findall('_[0-9]*\\.', str(file))[0][1:-1]\n",
    "    item = [str(file), jobnum, array]\n",
    "    filelist.append(item)\n",
    "    "
   ]
  },
  {
   "cell_type": "code",
   "execution_count": 56,
   "id": "8cd4079d-0ca2-4407-b0aa-e6fd023400e6",
   "metadata": {},
   "outputs": [
    {
     "data": {
      "text/html": [
       "<div>\n",
       "<style scoped>\n",
       "    .dataframe tbody tr th:only-of-type {\n",
       "        vertical-align: middle;\n",
       "    }\n",
       "\n",
       "    .dataframe tbody tr th {\n",
       "        vertical-align: top;\n",
       "    }\n",
       "\n",
       "    .dataframe thead th {\n",
       "        text-align: right;\n",
       "    }\n",
       "</style>\n",
       "<table border=\"1\" class=\"dataframe\">\n",
       "  <thead>\n",
       "    <tr style=\"text-align: right;\">\n",
       "      <th></th>\n",
       "      <th>filename</th>\n",
       "      <th>jobid</th>\n",
       "      <th>arrayid</th>\n",
       "    </tr>\n",
       "  </thead>\n",
       "  <tbody>\n",
       "    <tr>\n",
       "      <th>95</th>\n",
       "      <td>slurm-64467574_1.out</td>\n",
       "      <td>64467574</td>\n",
       "      <td>1</td>\n",
       "    </tr>\n",
       "    <tr>\n",
       "      <th>24</th>\n",
       "      <td>slurm-64497014_1.out</td>\n",
       "      <td>64497014</td>\n",
       "      <td>1</td>\n",
       "    </tr>\n",
       "    <tr>\n",
       "      <th>1</th>\n",
       "      <td>slurm-64518125_1.out</td>\n",
       "      <td>64518125</td>\n",
       "      <td>1</td>\n",
       "    </tr>\n",
       "    <tr>\n",
       "      <th>50</th>\n",
       "      <td>slurm-64541932_1.out</td>\n",
       "      <td>64541932</td>\n",
       "      <td>1</td>\n",
       "    </tr>\n",
       "    <tr>\n",
       "      <th>77</th>\n",
       "      <td>slurm-64574525_1.out</td>\n",
       "      <td>64574525</td>\n",
       "      <td>1</td>\n",
       "    </tr>\n",
       "    <tr>\n",
       "      <th>...</th>\n",
       "      <td>...</td>\n",
       "      <td>...</td>\n",
       "      <td>...</td>\n",
       "    </tr>\n",
       "    <tr>\n",
       "      <th>141</th>\n",
       "      <td>slurm-64726803_8.out</td>\n",
       "      <td>64726803</td>\n",
       "      <td>8</td>\n",
       "    </tr>\n",
       "    <tr>\n",
       "      <th>53</th>\n",
       "      <td>slurm-64787939_8.out</td>\n",
       "      <td>64787939</td>\n",
       "      <td>8</td>\n",
       "    </tr>\n",
       "    <tr>\n",
       "      <th>27</th>\n",
       "      <td>slurm-64830353_8.out</td>\n",
       "      <td>64830353</td>\n",
       "      <td>8</td>\n",
       "    </tr>\n",
       "    <tr>\n",
       "      <th>101</th>\n",
       "      <td>slurm-64886992_8.out</td>\n",
       "      <td>64886992</td>\n",
       "      <td>8</td>\n",
       "    </tr>\n",
       "    <tr>\n",
       "      <th>136</th>\n",
       "      <td>slurm-64467574_9.out</td>\n",
       "      <td>64467574</td>\n",
       "      <td>9</td>\n",
       "    </tr>\n",
       "  </tbody>\n",
       "</table>\n",
       "<p>168 rows × 3 columns</p>\n",
       "</div>"
      ],
      "text/plain": [
       "                 filename     jobid arrayid\n",
       "95   slurm-64467574_1.out  64467574       1\n",
       "24   slurm-64497014_1.out  64497014       1\n",
       "1    slurm-64518125_1.out  64518125       1\n",
       "50   slurm-64541932_1.out  64541932       1\n",
       "77   slurm-64574525_1.out  64574525       1\n",
       "..                    ...       ...     ...\n",
       "141  slurm-64726803_8.out  64726803       8\n",
       "53   slurm-64787939_8.out  64787939       8\n",
       "27   slurm-64830353_8.out  64830353       8\n",
       "101  slurm-64886992_8.out  64886992       8\n",
       "136  slurm-64467574_9.out  64467574       9\n",
       "\n",
       "[168 rows x 3 columns]"
      ]
     },
     "execution_count": 56,
     "metadata": {},
     "output_type": "execute_result"
    }
   ],
   "source": [
    "import pandas as pd\n",
    "\n",
    "df = pd.DataFrame(filelist, columns=['filename', 'jobid', 'arrayid'])\n",
    "df = df.sort_values(by=['arrayid', 'jobid'])\n",
    "df"
   ]
  },
  {
   "cell_type": "code",
   "execution_count": 57,
   "id": "8afc1557-5c1f-440f-a3a6-edd1ddf468ba",
   "metadata": {},
   "outputs": [],
   "source": [
    "def parseoutput(filename):\n",
    "    bestsofar = []\n",
    "    with open(filename, \"r\") as f:\n",
    "        for line in f:\n",
    "            if 'BEST' in line:\n",
    "                vecstr = line[6:]\n",
    "                x = eval(vecstr)\n",
    "                bestsofar.append(x)\n",
    "\n",
    "    return bestsofar\n",
    "    \n",
    "bestsofar = parseoutput('slurm-64467574_1.out')"
   ]
  },
  {
   "cell_type": "code",
   "execution_count": 58,
   "id": "23a3bd75-9ebe-4383-b555-34d976e66e9d",
   "metadata": {},
   "outputs": [
    {
     "data": {
      "text/plain": [
       "[<matplotlib.lines.Line2D at 0x2b81d3c44fd0>]"
      ]
     },
     "execution_count": 58,
     "metadata": {},
     "output_type": "execute_result"
    },
    {
     "data": {
      "image/png": "[encoded data removed]",
      "text/plain": [
       "<Figure size 432x288 with 1 Axes>"
      ]
     },
     "metadata": {
      "needs_background": "light"
     },
     "output_type": "display_data"
    }
   ],
   "source": [
    "results = pd.DataFrame(bestsofar, columns=['fitness', 'individual'])\n",
    "plt.plot(results['fitness'])"
   ]
  },
  {
   "cell_type": "code",
   "execution_count": null,
   "id": "c612636b-27ab-4309-87e5-32ef0d97ccc3",
   "metadata": {},
   "outputs": [],
   "source": []
  }
 ],
 "metadata": {
  "kernelspec": {
   "display_name": "Python 3",
   "language": "python",
   "name": "python3"
  },
  "language_info": {
   "codemirror_mode": {
    "name": "ipython",
    "version": 3
   },
   "file_extension": ".py",
   "mimetype": "text/x-python",
   "name": "python",
   "nbconvert_exporter": "python",
   "pygments_lexer": "ipython3",
   "version": "3.9.12"
  }
 },
 "nbformat": 4,
 "nbformat_minor": 5
}
