{
 "cells": [
  {
   "cell_type": "markdown",
   "metadata": {},
   "source": [
    "Show Best so far of each Example image"
   ]
  },
  {
   "cell_type": "code",
   "execution_count": null,
   "metadata": {},
   "outputs": [],
   "source": [
    "import sys\n",
    "sys.path.append('./see-segment')"
   ]
  },
  {
   "cell_type": "code",
   "execution_count": null,
   "metadata": {},
   "outputs": [],
   "source": [
    "def read_pop(filename):\n",
    "    \"\"\"Read Text output\"\"\"\n",
    "    print(f\"Reading in {filename}\")\n",
    "    inlist = []\n",
    "    fitness = []\n",
    "    with open(filename,'r') as myfile:\n",
    "        for line in myfile:\n",
    "            if (len(line) > 1):\n",
    "                x,fit,pop = eval(line)\n",
    "                inlist.append(pop)\n",
    "                fitness.append(fit)\n",
    "    return inlist, fitness"
   ]
  },
  {
   "cell_type": "code",
   "execution_count": null,
   "metadata": {},
   "outputs": [],
   "source": [
    "from pathlib import Path\n",
    "def getimages(folder='./see_segment/Image_data/Examples/'):\n",
    "    #def pickimage(\n",
    "\n",
    "    directory = Path(folder)\n",
    "\n",
    "    allfiles = sorted(directory.glob('*'))\n",
    "\n",
    "    filelist = []\n",
    "    masklist = []\n",
    "    progresslist = []\n",
    "    for file in allfiles:\n",
    "        if file.suffix ==\".jpg\" or file.suffix ==\".jpeg\" or file.suffix ==\".JPEG\" or file.suffix ==\".png\":\n",
    "            if not \"_GT\" in file.name and not \"best\" in file.name:\n",
    "                filelist.append(file)\n",
    "                mask = directory.glob(f\"{file.stem}_GT*\")\n",
    "                for m in mask:\n",
    "                    masklist.append(m)\n",
    "                progresslist.append(Path(f\"{folder}/_{file.stem}.txt\"))\n",
    "    return filelist, masklist, progresslist"
   ]
  },
  {
   "cell_type": "code",
   "execution_count": null,
   "metadata": {},
   "outputs": [],
   "source": [
    "directory = \"./see-segment/Image_data/Examples/\"\n",
    "[images, masks, progresslist] = getimages(directory)"
   ]
  },
  {
   "cell_type": "code",
   "execution_count": null,
   "metadata": {},
   "outputs": [],
   "source": [
    "import numpy as np\n",
    "from see.Segmentors import segmentor\n",
    "from see.ColorSpace import colorspace\n",
    "from see.Workflow import workflow\n",
    "from see.Segment_Fitness import segment_fitness\n",
    "from see import base_classes \n",
    "from see.git_version import git_version\n",
    "from see import GeneticSearch, Segmentors\n",
    "import matplotlib.pylab as plt\n",
    "from imageio import v3 as imageio\n",
    "\n",
    "workflow.addalgos([colorspace, segmentor, segment_fitness])\n",
    "\n",
    "fig = plt.figure(figsize=(20, 40))\n",
    "\n",
    "rows = len(images)\n",
    "\n",
    "row = 0\n",
    "for imfile, gtfile, bestfile in zip(images, masks, progresslist):\n",
    "    mydata = base_classes.pipedata()\n",
    "    mydata.append(imageio.imread(imfile))\n",
    "    mydata.gtruth = imageio.imread(gtfile) \n",
    "    \n",
    "    my_ax = plt.subplot(rows, 3, (row*3)+1)\n",
    "    my_ax.imshow(mydata[0])\n",
    "    my_ax.axis('off')\n",
    "    \n",
    "    my_ax = plt.subplot(rows, 3, (row*3)+2)\n",
    "    my_ax.imshow(mydata.gtruth)\n",
    "    my_ax.axis('off')\n",
    "    \n",
    "    if bestfile.exists():\n",
    "        if mydata[0].shape == mydata.gtruth.shape:\n",
    "            [inlist, fitness] = read_pop(bestfile)\n",
    "            best = inlist[np.argmin(fitness)]\n",
    "\n",
    "            workflow.addalgos([colorspace, segmentor, segment_fitness])\n",
    "            wf = workflow(paramlist=best)\n",
    "\n",
    "            mydata = wf.pipe(mydata)\n",
    "\n",
    "            my_ax = plt.subplot(rows, 3, (row*3)+3)\n",
    "            my_ax.imshow(mydata[-1])\n",
    "            my_ax.set_title(mydata.fitness)\n",
    "            my_ax.axis('off')\n",
    "    else:\n",
    "        pass\n",
    "        #print('no bestfile')\n",
    "    row+=1"
   ]
  },
  {
   "cell_type": "code",
   "execution_count": null,
   "metadata": {},
   "outputs": [],
   "source": []
  }
 ],
 "metadata": {
  "kernelspec": {
   "display_name": "Python 3",
   "language": "python",
   "name": "python3"
  },
  "language_info": {
   "codemirror_mode": {
    "name": "ipython",
    "version": 3
   },
   "file_extension": ".py",
   "mimetype": "text/x-python",
   "name": "python",
   "nbconvert_exporter": "python",
   "pygments_lexer": "ipython3",
   "version": "3.9.12"
  }
 },
 "nbformat": 4,
 "nbformat_minor": 4
}
