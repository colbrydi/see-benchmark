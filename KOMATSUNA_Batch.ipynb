{
 "cells": [
  {
   "cell_type": "markdown",
   "id": "91d77707-38c0-40f5-8511-a14511e1022f",
   "metadata": {
    "tags": []
   },
   "source": [
    "# KOMATSUNA Batch file on HPCC\n",
    "\n",
    "This program is us exploring how we want to run a big multi-image job using the HPCC.  To start we are just going to run a singl eimage job using different input files for training. "
   ]
  },
  {
   "cell_type": "code",
   "execution_count": null,
   "id": "ec061765-caf8-41f7-b47d-eac06f515ac2",
   "metadata": {},
   "outputs": [],
   "source": [
    "%matplotlib inline\n",
    "from parsesee import parsesee\n",
    "\n",
    "df = parsesee.getslurmoutputfiles('./20221229-KOMATSUNA_four_Hour/')\n",
    "df"
   ]
  },
  {
   "cell_type": "code",
   "execution_count": null,
   "id": "e0dbdd44-5d3c-4d6c-ac6a-d88b816d5976",
   "metadata": {},
   "outputs": [],
   "source": [
    "rundata = parsesee.parseall(df)"
   ]
  },
  {
   "cell_type": "code",
   "execution_count": null,
   "id": "1dd287c3-42b7-4b3b-bee7-de831646d439",
   "metadata": {},
   "outputs": [],
   "source": []
  }
 ],
 "metadata": {
  "kernelspec": {
   "display_name": "Python 3",
   "language": "python",
   "name": "python3"
  },
  "language_info": {
   "codemirror_mode": {
    "name": "ipython",
    "version": 3
   },
   "file_extension": ".py",
   "mimetype": "text/x-python",
   "name": "python",
   "nbconvert_exporter": "python",
   "pygments_lexer": "ipython3",
   "version": "3.9.12"
  }
 },
 "nbformat": 4,
 "nbformat_minor": 5
}
