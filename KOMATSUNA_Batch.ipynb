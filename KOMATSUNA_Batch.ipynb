{
 "cells": [
  {
   "cell_type": "markdown",
   "id": "91d77707-38c0-40f5-8511-a14511e1022f",
   "metadata": {
    "tags": []
   },
   "source": [
    "# KOMATSUNA Batch file on HPCC\n",
    "\n",
    "This program is us exploring how we want to run a big multi-image job using the HPCC.  To start we are just going to run a singl eimage job using different input files for training. "
   ]
  },
  {
   "cell_type": "code",
   "execution_count": 6,
   "id": "ec061765-caf8-41f7-b47d-eac06f515ac2",
   "metadata": {},
   "outputs": [],
   "source": [
    "%matplotlib inline\n",
    "import matplotlib.pylab as plt\n",
    "import imageio\n",
    "from see import Segmentors\n",
    "from see import JupyterGUI\n",
    "from see.Segmentors import segmentor\n",
    "from see.ColorSpace import colorspace\n",
    "from see.Workflow import workflow\n",
    "from see.Segment_Fitness import segment_fitness\n",
    "from see import base_classes, GeneticSearch\n",
    "from see import DataDownload"
   ]
  },
  {
   "cell_type": "code",
   "execution_count": 8,
   "id": "43dcc8cc-d5f2-4987-8b7f-5447f41ef272",
   "metadata": {},
   "outputs": [],
   "source": [
    "[imagenames, masknames, outputnames] = DataDownload.getKomatsunaFolderLists(folder='./Image_data/')"
   ]
  },
  {
   "cell_type": "code",
   "execution_count": 10,
   "id": "195905c6-74e8-4b49-ac37-bb53711684d4",
   "metadata": {},
   "outputs": [
    {
     "name": "stderr",
     "output_type": "stream",
     "text": [
      "<ipython-input-10-07bfffb3c3ae>:6: DeprecationWarning: Starting with ImageIO v3 the behavior of this function will switch to that of iio.v3.imread. To keep the current behavior (and make this warning dissapear) use `import imageio.v2 as imageio` or call `imageio.v2.imread` directly.\n",
      "  data.img = imageio.imread(imagenames[10])\n",
      "<ipython-input-10-07bfffb3c3ae>:7: DeprecationWarning: Starting with ImageIO v3 the behavior of this function will switch to that of iio.v3.imread. To keep the current behavior (and make this warning dissapear) use `import imageio.v2 as imageio` or call `imageio.v2.imread` directly.\n",
      "  data.gmask = imageio.imread(imagenames[10])\n"
     ]
    }
   ],
   "source": [
    "# put data in a pipeline\n",
    "data = base_classes.pipedata()\n",
    "\n",
    "#TODO make this a KOMATSUNA measure\n",
    "data.img = imageio.imread(imagenames[10])\n",
    "data.gmask = imageio.imread(imagenames[10])"
   ]
  },
  {
   "cell_type": "code",
   "execution_count": 11,
   "id": "c03e5e6e-90d2-4de8-8af5-80960470283e",
   "metadata": {},
   "outputs": [],
   "source": [
    "#define an algorithm workflow\n",
    "workflow.addalgos([colorspace, segmentor, segment_fitness])"
   ]
  },
  {
   "cell_type": "code",
   "execution_count": 12,
   "id": "c5639096-9173-4243-915c-4766150f132a",
   "metadata": {},
   "outputs": [
    {
     "name": "stderr",
     "output_type": "stream",
     "text": [
      "/miniconda3/lib/python3.9/site-packages/deap/creator.py:138: RuntimeWarning: A class named 'FitnessMin' has already been created and it will be overwritten. Consider deleting previous creation of that class or rename it.\n",
      "  warnings.warn(\"A class named '{0}' has already been created and it \"\n",
      "/miniconda3/lib/python3.9/site-packages/deap/creator.py:138: RuntimeWarning: A class named 'Individual' has already been created and it will be overwritten. Consider deleting previous creation of that class or rename it.\n",
      "  warnings.warn(\"A class named '{0}' has already been created and it \"\n"
     ]
    }
   ],
   "source": [
    "#TODO This needs to be fixed Using the new syntax.\n",
    "#my_evolver = GeneticSearch.Evolver(workflow, mydata, pop_size=10)\n",
    "my_evolver = GeneticSearch.Evolver(workflow, data, pop_size=100)"
   ]
  },
  {
   "cell_type": "code",
   "execution_count": 13,
   "id": "ac8c4962-b31e-4ed2-a1e4-1754a84627b4",
   "metadata": {},
   "outputs": [
    {
     "name": "stdout",
     "output_type": "stream",
     "text": [
      "Initializing a new random population\n",
      "Generation 0/50 of population size 100\n",
      "<class 'see.Workflow.workflow'> parameters: \n",
      "\tcolorspace = HSV\n",
      "\tmultichannel = True\n",
      "\tchannel = 0\n",
      "\talgorithm = QuickShift\n",
      "\talpha1 = 0.640625\n",
      "\talpha2 = 0.65234375\n",
      "\tbeta1 = 0.3125\n",
      "\tbeta2 = 0.27734375\n",
      "\tgamma1 = 0.33984375\n",
      "\tgamma2 = 0.0703125\n",
      "\tn_segments = 4\n",
      "\tmax_num_iter = 10\n",
      "\n",
      "Time: 1.832 s\n",
      "fitness=0.9919983731590237\n",
      "\n",
      "<class 'see.Workflow.workflow'> parameters: \n",
      "\tcolorspace = YIQ\n",
      "\tmultichannel = False\n",
      "\tchannel = 2\n",
      "\talgorithm = Slic\n",
      "\talpha1 = 0.09765625\n",
      "\talpha2 = 0.0859375\n",
      "\tbeta1 = 0.78515625\n",
      "\tbeta2 = 0.34765625\n",
      "\tgamma1 = 0.58984375\n",
      "\tgamma2 = 0.31640625\n",
      "\tn_segments = 2\n",
      "\tmax_num_iter = 11\n",
      "\n",
      "Time: 0.124 s\n",
      "fitness=1.0035663218750897\n",
      "\n",
      "<class 'see.Workflow.workflow'> parameters: \n",
      "\tcolorspace = HSV\n",
      "\tmultichannel = False\n",
      "\tchannel = 2\n",
      "\talgorithm = SlicO\n",
      "\talpha1 = 0.546875\n",
      "\talpha2 = 0.65234375\n",
      "\tbeta1 = 0.31640625\n",
      "\tbeta2 = 0.11328125\n",
      "\tgamma1 = 0.69921875\n",
      "\tgamma2 = 0.5390625\n",
      "\tn_segments = 1\n",
      "\tmax_num_iter = 1\n",
      "\n",
      "Time: 0.114 s\n",
      "fitness=1.0018271489722748\n",
      "\n",
      "<class 'see.Workflow.workflow'> parameters: \n",
      "\tcolorspace = YPbPr\n",
      "\tmultichannel = True\n",
      "\tchannel = 1\n",
      "\talgorithm = Morphological_Chan_Vese\n",
      "\talpha1 = 0.5546875\n",
      "\talpha2 = 0.39453125\n",
      "\tbeta1 = 0.46875\n",
      "\tbeta2 = 0.71875\n",
      "\tgamma1 = 0.265625\n",
      "\tgamma2 = 0.30859375\n",
      "\tn_segments = 3\n",
      "\tmax_num_iter = 7\n",
      "\n"
     ]
    },
    {
     "ename": "TypeError",
     "evalue": "morphological_chan_vese() got an unexpected keyword argument 'max_num_iter'",
     "output_type": "error",
     "traceback": [
      "\u001b[0;31m---------------------------------------------------------------------------\u001b[0m",
      "\u001b[0;31mTypeError\u001b[0m                                 Traceback (most recent call last)",
      "Cell \u001b[0;32mIn [13], line 2\u001b[0m\n\u001b[1;32m      1\u001b[0m \u001b[38;5;66;03m# warnings may appear when this runs\u001b[39;00m\n\u001b[0;32m----> 2\u001b[0m population \u001b[38;5;241m=\u001b[39m \u001b[43mmy_evolver\u001b[49m\u001b[38;5;241;43m.\u001b[39;49m\u001b[43mrun\u001b[49m\u001b[43m(\u001b[49m\u001b[43mngen\u001b[49m\u001b[38;5;241;43m=\u001b[39;49m\u001b[38;5;241;43m50\u001b[39;49m\u001b[43m)\u001b[49m\n",
      "File \u001b[0;32m~/UserCode/colbrydi/see-temp/see-segment/see/GeneticSearch.py:472\u001b[0m, in \u001b[0;36mEvolver.run\u001b[0;34m(self, ngen, population, startfile, checkpoint, cp_freq, print_raw_data)\u001b[0m\n\u001b[1;32m    469\u001b[0m \u001b[38;5;28;01mfor\u001b[39;00m cur_g \u001b[38;5;129;01min\u001b[39;00m \u001b[38;5;28mrange\u001b[39m(\u001b[38;5;241m0\u001b[39m, ngen \u001b[38;5;241m+\u001b[39m \u001b[38;5;241m1\u001b[39m):\n\u001b[1;32m    470\u001b[0m     \u001b[38;5;28mprint\u001b[39m(\u001b[38;5;124mf\u001b[39m\u001b[38;5;124m\"\u001b[39m\u001b[38;5;124mGeneration \u001b[39m\u001b[38;5;132;01m{\u001b[39;00mcur_g\u001b[38;5;132;01m}\u001b[39;00m\u001b[38;5;124m/\u001b[39m\u001b[38;5;132;01m{\u001b[39;00mngen\u001b[38;5;132;01m}\u001b[39;00m\u001b[38;5;124m of population size \u001b[39m\u001b[38;5;132;01m{\u001b[39;00m\u001b[38;5;28mlen\u001b[39m(population)\u001b[38;5;132;01m}\u001b[39;00m\u001b[38;5;124m\"\u001b[39m)\n\u001b[0;32m--> 472\u001b[0m     _, population \u001b[38;5;241m=\u001b[39m \u001b[38;5;28;43mself\u001b[39;49m\u001b[38;5;241;43m.\u001b[39;49m\u001b[43mpopfitness\u001b[49m\u001b[43m(\u001b[49m\u001b[43mpopulation\u001b[49m\u001b[43m)\u001b[49m\n\u001b[1;32m    474\u001b[0m     bestsofar \u001b[38;5;241m=\u001b[39m \u001b[38;5;28mself\u001b[39m\u001b[38;5;241m.\u001b[39mhof[\u001b[38;5;241m0\u001b[39m]\n\u001b[1;32m    476\u001b[0m     \u001b[38;5;66;03m# Create a new instance from the current algorithm\u001b[39;00m\n\u001b[1;32m    477\u001b[0m     \u001b[38;5;66;03m# seg = self.algo_constructor(bestsofar)\u001b[39;00m\n\u001b[1;32m    478\u001b[0m     \u001b[38;5;66;03m# self.data = seg.pipe(self.data)\u001b[39;00m\n",
      "File \u001b[0;32m~/UserCode/colbrydi/see-temp/see-segment/see/GeneticSearch.py:324\u001b[0m, in \u001b[0;36mEvolver.popfitness\u001b[0;34m(self, tpop)\u001b[0m\n\u001b[1;32m    320\u001b[0m outdata \u001b[38;5;241m=\u001b[39m \u001b[38;5;28mmap\u001b[39m(\u001b[38;5;28mself\u001b[39m\u001b[38;5;241m.\u001b[39mtool\u001b[38;5;241m.\u001b[39mevaluate, algos, data_references)\n\u001b[1;32m    322\u001b[0m \u001b[38;5;66;03m# Loop though outputs and add them to ind.fitness so we have a complete\u001b[39;00m\n\u001b[1;32m    323\u001b[0m \u001b[38;5;66;03m# record.\u001b[39;00m\n\u001b[0;32m--> 324\u001b[0m \u001b[38;5;28;01mfor\u001b[39;00m ind, data \u001b[38;5;129;01min\u001b[39;00m \u001b[38;5;28mzip\u001b[39m(tpop, outdata):\n\u001b[1;32m    325\u001b[0m     \u001b[38;5;28mprint\u001b[39m(\u001b[38;5;124mf\u001b[39m\u001b[38;5;124m\"\u001b[39m\u001b[38;5;124mfitness=\u001b[39m\u001b[38;5;132;01m{\u001b[39;00mdata\u001b[38;5;241m.\u001b[39mfitness\u001b[38;5;132;01m}\u001b[39;00m\u001b[38;5;130;01m\\n\u001b[39;00m\u001b[38;5;124m\"\u001b[39m)\n\u001b[1;32m    326\u001b[0m     ind\u001b[38;5;241m.\u001b[39mfitness\u001b[38;5;241m.\u001b[39mvalues \u001b[38;5;241m=\u001b[39m [data\u001b[38;5;241m.\u001b[39mfitness]\n",
      "File \u001b[0;32m~/UserCode/colbrydi/see-temp/see-segment/see/base_classes.py:162\u001b[0m, in \u001b[0;36malgorithm.runAlgo\u001b[0;34m(self, data, params)\u001b[0m\n\u001b[1;32m    160\u001b[0m \u001b[38;5;28;01melse\u001b[39;00m:\n\u001b[1;32m    161\u001b[0m     \u001b[38;5;28mprint\u001b[39m(\u001b[38;5;124mf\u001b[39m\u001b[38;5;124m\"\u001b[39m\u001b[38;5;132;01m{\u001b[39;00m\u001b[38;5;28mself\u001b[39m\u001b[38;5;132;01m}\u001b[39;00m\u001b[38;5;124m\"\u001b[39m)\n\u001b[0;32m--> 162\u001b[0m     data \u001b[38;5;241m=\u001b[39m \u001b[38;5;28;43mself\u001b[39;49m\u001b[38;5;241;43m.\u001b[39;49m\u001b[43mpipe\u001b[49m\u001b[43m(\u001b[49m\u001b[43mdata\u001b[49m\u001b[43m)\u001b[49m\n\u001b[1;32m    163\u001b[0m     endTime \u001b[38;5;241m=\u001b[39m \u001b[38;5;28mint\u001b[39m(\u001b[38;5;28mround\u001b[39m(time\u001b[38;5;241m.\u001b[39mtime() \u001b[38;5;241m*\u001b[39m \u001b[38;5;241m1000\u001b[39m))\n\u001b[1;32m    164\u001b[0m     \u001b[38;5;28mprint\u001b[39m(\u001b[38;5;124mf\u001b[39m\u001b[38;5;124m\"\u001b[39m\u001b[38;5;124mTime: \u001b[39m\u001b[38;5;132;01m{\u001b[39;00m(endTime \u001b[38;5;241m-\u001b[39m startTime)\u001b[38;5;241m/\u001b[39m\u001b[38;5;241m1000\u001b[39m\u001b[38;5;132;01m}\u001b[39;00m\u001b[38;5;124m s\u001b[39m\u001b[38;5;124m\"\u001b[39m)\n",
      "File \u001b[0;32m~/UserCode/colbrydi/see-temp/see-segment/see/Workflow.py:43\u001b[0m, in \u001b[0;36mworkflow.pipe\u001b[0;34m(self, data)\u001b[0m\n\u001b[1;32m     41\u001b[0m     algo \u001b[38;5;241m=\u001b[39m algo_constructor(\u001b[38;5;28mself\u001b[39m\u001b[38;5;241m.\u001b[39mparams)\n\u001b[1;32m     42\u001b[0m     algo\u001b[38;5;241m.\u001b[39mparams\u001b[38;5;241m.\u001b[39maddall(\u001b[38;5;28mself\u001b[39m\u001b[38;5;241m.\u001b[39mparams)\n\u001b[0;32m---> 43\u001b[0m     data \u001b[38;5;241m=\u001b[39m \u001b[43malgo\u001b[49m\u001b[38;5;241;43m.\u001b[39;49m\u001b[43mpipe\u001b[49m\u001b[43m(\u001b[49m\u001b[43mdata\u001b[49m\u001b[43m)\u001b[49m\n\u001b[1;32m     44\u001b[0m \u001b[38;5;28;01mreturn\u001b[39;00m data\n",
      "File \u001b[0;32m~/UserCode/colbrydi/see-temp/see-segment/see/Segmentors.py:110\u001b[0m, in \u001b[0;36msegmentor.pipe\u001b[0;34m(self, data)\u001b[0m\n\u001b[1;32m    108\u001b[0m \u001b[38;5;28;01mdef\u001b[39;00m \u001b[38;5;21mpipe\u001b[39m(\u001b[38;5;28mself\u001b[39m, data):\n\u001b[1;32m    109\u001b[0m     \u001b[38;5;124;03m\"\"\"Set data.mask to an evaluated image.\"\"\"\u001b[39;00m\n\u001b[0;32m--> 110\u001b[0m     data\u001b[38;5;241m.\u001b[39mmask \u001b[38;5;241m=\u001b[39m \u001b[38;5;28;43mself\u001b[39;49m\u001b[38;5;241;43m.\u001b[39;49m\u001b[43mevaluate\u001b[49m\u001b[43m(\u001b[49m\u001b[43mdata\u001b[49m\u001b[38;5;241;43m.\u001b[39;49m\u001b[43mimg\u001b[49m\u001b[43m)\u001b[49m\n\u001b[1;32m    111\u001b[0m     \u001b[38;5;28;01mreturn\u001b[39;00m data\n",
      "File \u001b[0;32m~/UserCode/colbrydi/see-temp/see-segment/see/Segmentors.py:106\u001b[0m, in \u001b[0;36msegmentor.evaluate\u001b[0;34m(self, img)\u001b[0m\n\u001b[1;32m    103\u001b[0m sys\u001b[38;5;241m.\u001b[39mstdout\u001b[38;5;241m.\u001b[39mflush()\n\u001b[1;32m    104\u001b[0m \u001b[38;5;28mself\u001b[39m\u001b[38;5;241m.\u001b[39mthisalgo \u001b[38;5;241m=\u001b[39m segmentor\u001b[38;5;241m.\u001b[39malgorithmspace[\u001b[38;5;28mself\u001b[39m\u001b[38;5;241m.\u001b[39mparams[\u001b[38;5;124m'\u001b[39m\u001b[38;5;124malgorithm\u001b[39m\u001b[38;5;124m'\u001b[39m]](\n\u001b[1;32m    105\u001b[0m     \u001b[38;5;28mself\u001b[39m\u001b[38;5;241m.\u001b[39mparams)\n\u001b[0;32m--> 106\u001b[0m \u001b[38;5;28;01mreturn\u001b[39;00m \u001b[38;5;28;43mself\u001b[39;49m\u001b[38;5;241;43m.\u001b[39;49m\u001b[43mthisalgo\u001b[49m\u001b[38;5;241;43m.\u001b[39;49m\u001b[43mevaluate\u001b[49m\u001b[43m(\u001b[49m\u001b[43mimg\u001b[49m\u001b[43m)\u001b[49m\n",
      "File \u001b[0;32m~/UserCode/colbrydi/see-temp/see-segment/see/Segmentors.py:719\u001b[0m, in \u001b[0;36mMorphological_Chan_Vese.evaluate\u001b[0;34m(self, img)\u001b[0m\n\u001b[1;32m    716\u001b[0m     \u001b[38;5;28;01melse\u001b[39;00m:\n\u001b[1;32m    717\u001b[0m         img \u001b[38;5;241m=\u001b[39m color\u001b[38;5;241m.\u001b[39mrgb2gray(img)\n\u001b[0;32m--> 719\u001b[0m output \u001b[38;5;241m=\u001b[39m \u001b[43mskimage\u001b[49m\u001b[38;5;241;43m.\u001b[39;49m\u001b[43msegmentation\u001b[49m\u001b[38;5;241;43m.\u001b[39;49m\u001b[43mmorphological_chan_vese\u001b[49m\u001b[43m(\u001b[49m\n\u001b[1;32m    720\u001b[0m \u001b[43m    \u001b[49m\u001b[43mimg\u001b[49m\u001b[43m,\u001b[49m\n\u001b[1;32m    721\u001b[0m \u001b[43m    \u001b[49m\u001b[43mmax_num_iter\u001b[49m\u001b[38;5;241;43m=\u001b[39;49m\u001b[43mmax_num_iter\u001b[49m\u001b[43m,\u001b[49m\n\u001b[1;32m    722\u001b[0m \u001b[43m    \u001b[49m\u001b[43minit_level_set\u001b[49m\u001b[38;5;241;43m=\u001b[39;49m\u001b[43minit_level_set\u001b[49m\u001b[43m,\u001b[49m\n\u001b[1;32m    723\u001b[0m \u001b[43m    \u001b[49m\u001b[43msmoothing\u001b[49m\u001b[38;5;241;43m=\u001b[39;49m\u001b[43msmoothing\u001b[49m\u001b[43m,\u001b[49m\n\u001b[1;32m    724\u001b[0m \u001b[43m    \u001b[49m\u001b[43mlambda1\u001b[49m\u001b[38;5;241;43m=\u001b[39;49m\u001b[43mlambda1\u001b[49m\u001b[43m,\u001b[49m\n\u001b[1;32m    725\u001b[0m \u001b[43m    \u001b[49m\u001b[43mlambda2\u001b[49m\u001b[38;5;241;43m=\u001b[39;49m\u001b[43mlambda2\u001b[49m\u001b[43m,\u001b[49m\n\u001b[1;32m    726\u001b[0m \u001b[43m\u001b[49m\u001b[43m)\u001b[49m\n\u001b[1;32m    727\u001b[0m \u001b[38;5;28;01mreturn\u001b[39;00m output\n",
      "File \u001b[0;32m/miniconda3/lib/python3.9/site-packages/skimage/_shared/utils.py:282\u001b[0m, in \u001b[0;36mdeprecate_kwarg.__call__.<locals>.fixed_func\u001b[0;34m(*args, **kwargs)\u001b[0m\n\u001b[1;32m    279\u001b[0m         kwargs[new_arg] \u001b[38;5;241m=\u001b[39m kwargs\u001b[38;5;241m.\u001b[39mpop(old_arg)\n\u001b[1;32m    281\u001b[0m \u001b[38;5;66;03m# Call the function with the fixed arguments\u001b[39;00m\n\u001b[0;32m--> 282\u001b[0m \u001b[38;5;28;01mreturn\u001b[39;00m \u001b[43mfunc\u001b[49m\u001b[43m(\u001b[49m\u001b[38;5;241;43m*\u001b[39;49m\u001b[43margs\u001b[49m\u001b[43m,\u001b[49m\u001b[43m \u001b[49m\u001b[38;5;241;43m*\u001b[39;49m\u001b[38;5;241;43m*\u001b[39;49m\u001b[43mkwargs\u001b[49m\u001b[43m)\u001b[49m\n",
      "\u001b[0;31mTypeError\u001b[0m: morphological_chan_vese() got an unexpected keyword argument 'max_num_iter'"
     ]
    }
   ],
   "source": [
    "# warnings may appear when this runs\n",
    "population = my_evolver.run(ngen=50)"
   ]
  },
  {
   "cell_type": "code",
   "execution_count": null,
   "id": "e0dbdd44-5d3c-4d6c-ac6a-d88b816d5976",
   "metadata": {},
   "outputs": [],
   "source": []
  }
 ],
 "metadata": {
  "kernelspec": {
   "display_name": "Python 3",
   "language": "python",
   "name": "python3"
  },
  "language_info": {
   "codemirror_mode": {
    "name": "ipython",
    "version": 3
   },
   "file_extension": ".py",
   "mimetype": "text/x-python",
   "name": "python",
   "nbconvert_exporter": "python",
   "pygments_lexer": "ipython3",
   "version": "3.9.12"
  }
 },
 "nbformat": 4,
 "nbformat_minor": 5
}
