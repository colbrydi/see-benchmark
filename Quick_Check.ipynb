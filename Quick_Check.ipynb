{
 "cells": [
  {
   "cell_type": "markdown",
   "id": "da3a3db7-a0fb-4191-b326-280fafaaecd9",
   "metadata": {
    "tags": []
   },
   "source": [
    "# Quick Check\n",
    "\n",
    "Quickly visualize an algorithm and one of the examples indexed by number"
   ]
  },
  {
   "cell_type": "code",
   "execution_count": null,
   "id": "47ac30f2-f5f1-40bf-8319-5cbdced43265",
   "metadata": {},
   "outputs": [],
   "source": [
    "item = 1\n",
    "params = ['YCbCr', True, 2, 'ColorThreshold', 0.35546875, 0.49609375, 0.28125, 0.87109375, 0.08984375, 0.828125, 4, 13]"
   ]
  },
  {
   "cell_type": "code",
   "execution_count": null,
   "id": "d931550f-3a27-4010-ae9d-186ca0b54303",
   "metadata": {},
   "outputs": [],
   "source": [
    "item =8\n",
    "params =['YDbDr', False, 1, 'Felzenszwalb', 0.55078125, 0.22265625, 0.7734375, 0.87109375, 0.9765625, 0.3203125, 1, 9]"
   ]
  },
  {
   "cell_type": "code",
   "execution_count": null,
   "id": "81dc07bb-7d27-4bb4-9c26-d670d0628b8a",
   "metadata": {},
   "outputs": [],
   "source": [
    "item=4\n",
    "params=['YDbDr', True, 0, 'Felzenszwalb', 0.7421875, 0.0, 0.46875, 0.421875, 0.125, 0.453125, 4, 5]"
   ]
  },
  {
   "cell_type": "code",
   "execution_count": null,
   "id": "a26da48b-7ac2-48ff-815f-82393f1ccf61",
   "metadata": {},
   "outputs": [],
   "source": [
    "item=99\n",
    "params=['YDbDr', True, 0, 'Felzenszwalb', 0.7421875, 0.0, 0.46875, 0.421875, 0.125, 0.453125, 4, 5]"
   ]
  },
  {
   "cell_type": "code",
   "execution_count": null,
   "id": "fb0869c2-5ab6-410f-9c4a-4f1e8bbe7770",
   "metadata": {},
   "outputs": [],
   "source": [
    "import sys\n",
    "sys.path.append('./see-segment')"
   ]
  },
  {
   "cell_type": "code",
   "execution_count": null,
   "id": "30688d6f-bb9f-4135-abd0-875079e40fcc",
   "metadata": {},
   "outputs": [],
   "source": [
    "%matplotlib inline\n",
    "import matplotlib.pylab as plt\n",
    "from see import Segmentors\n",
    "from see import JupyterGUI"
   ]
  },
  {
   "cell_type": "code",
   "execution_count": null,
   "id": "a1bf4edc-4116-47c3-a4e7-8ea1417b38b8",
   "metadata": {},
   "outputs": [],
   "source": [
    "from see.Segmentors import segmentor\n",
    "from see.ColorSpace import colorspace\n",
    "from see.Workflow import workflow\n",
    "from see.Segment_Fitness import segment_fitness\n",
    "from see import base_classes, GeneticSearch"
   ]
  },
  {
   "cell_type": "code",
   "execution_count": null,
   "id": "d5f817b5-ed0b-481b-8a60-77304b125ea4",
   "metadata": {},
   "outputs": [],
   "source": [
    "total=0\n",
    "with open('imagefile.txt') as f:\n",
    "    lines = f.read().splitlines()"
   ]
  },
  {
   "cell_type": "code",
   "execution_count": null,
   "id": "0661ac58-2ac8-40b8-9645-e401f87d129c",
   "metadata": {},
   "outputs": [],
   "source": [
    "total = len(lines)\n",
    "item = ((item-1)%total)+1"
   ]
  },
  {
   "cell_type": "code",
   "execution_count": null,
   "id": "383cc27e-3e1d-49db-a210-1ae26475469a",
   "metadata": {},
   "outputs": [],
   "source": [
    "from see import base_classes\n",
    "from imageio import v3 as imageio\n",
    "\n",
    "\n",
    "\n",
    "imfile, mfile = lines[item-1].split(' ')\n",
    "print(imfile)\n",
    "print(mfile)\n",
    "data = []\n",
    "data = base_classes.pipedata()\n",
    "data.append(imageio.imread(imfile))\n",
    "data.gtruth = imageio.imread(mfile)"
   ]
  },
  {
   "cell_type": "code",
   "execution_count": null,
   "id": "bd257e4d-8105-4e4f-928b-55087678f37f",
   "metadata": {},
   "outputs": [],
   "source": [
    "from skimage import color\n",
    "if len(data.gtruth.shape) > 2:\n",
    "    data.gtruth = color.rgb2gray(data.gtruth[:,:,0:3])"
   ]
  },
  {
   "cell_type": "code",
   "execution_count": null,
   "id": "7553841b-af3b-474c-9eb8-e49838d243a0",
   "metadata": {},
   "outputs": [],
   "source": [
    "#define an algorithm workflow\n",
    "workflow.setalgos([colorspace, segmentor, segment_fitness])"
   ]
  },
  {
   "cell_type": "code",
   "execution_count": null,
   "id": "1ebad3b5-6ca5-4727-aa0a-55dd4a2fad19",
   "metadata": {},
   "outputs": [],
   "source": [
    "workf = workflow(params)\n",
    "data = workf.pipe(data)"
   ]
  },
  {
   "cell_type": "code",
   "execution_count": null,
   "id": "b98d7d07-c25c-4d42-a36d-90e81a0f99e1",
   "metadata": {},
   "outputs": [],
   "source": [
    "import numpy as np\n",
    "\n",
    "plt.figure(figsize=(20, 10))\n",
    "\n",
    "for index,img in enumerate(data):\n",
    "    plt.subplot(1, len(data)+1, index+1)\n",
    "    plt.imshow(img.astype(np.uint8))\n",
    "    #plt.axis('off')\n",
    "\n",
    "plt.subplot(1, len(data)+1, index+1)\n",
    "plt.subplot(1, len(data)+1, index+2)\n",
    "plt.imshow(data.gtruth)\n",
    "plt.title(data.fitness)\n",
    "plt.axis('off')\n",
    "\n",
    "\n",
    "plt.tight_layout\n",
    "plt.show()"
   ]
  },
  {
   "cell_type": "code",
   "execution_count": null,
   "id": "7ece1d0f-a8ce-45e8-ab75-cbe51ca7b489",
   "metadata": {},
   "outputs": [],
   "source": [
    "data.fitness\n"
   ]
  },
  {
   "cell_type": "code",
   "execution_count": null,
   "id": "b12b1189-31d4-49c6-accd-10568ca2cd28",
   "metadata": {},
   "outputs": [],
   "source": []
  }
 ],
 "metadata": {
  "kernelspec": {
   "display_name": "Python 3",
   "language": "python",
   "name": "python3"
  },
  "language_info": {
   "codemirror_mode": {
    "name": "ipython",
    "version": 3
   },
   "file_extension": ".py",
   "mimetype": "text/x-python",
   "name": "python",
   "nbconvert_exporter": "python",
   "pygments_lexer": "ipython3",
   "version": "3.9.12"
  }
 },
 "nbformat": 4,
 "nbformat_minor": 5
}
